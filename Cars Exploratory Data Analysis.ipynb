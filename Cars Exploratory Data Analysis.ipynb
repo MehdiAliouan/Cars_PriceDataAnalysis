{
 "cells": [
  {
   "cell_type": "code",
   "execution_count": 1,
   "id": "fc51c2a5",
   "metadata": {},
   "outputs": [],
   "source": [
    "# importing the librairies\n",
    "\n",
    "import pandas as pd\n",
    "import matplotlib.pyplot as plt\n",
    "import seaborn as sns"
   ]
  },
  {
   "cell_type": "code",
   "execution_count": 2,
   "id": "4311a293",
   "metadata": {},
   "outputs": [],
   "source": [
    "# Loading the CSV file into a DataFrame\n",
    "cars = pd.read_csv(r\"C:\\Users\\ElMehdi\\Downloads\\Cars_EDA\\cars.csv\")"
   ]
  },
  {
   "cell_type": "markdown",
   "id": "8d8350fe",
   "metadata": {},
   "source": [
    "### Exploring the dataset"
   ]
  },
  {
   "cell_type": "code",
   "execution_count": 3,
   "id": "5ebe1879",
   "metadata": {
    "scrolled": true
   },
   "outputs": [
    {
     "data": {
      "text/html": [
       "<div>\n",
       "<style scoped>\n",
       "    .dataframe tbody tr th:only-of-type {\n",
       "        vertical-align: middle;\n",
       "    }\n",
       "\n",
       "    .dataframe tbody tr th {\n",
       "        vertical-align: top;\n",
       "    }\n",
       "\n",
       "    .dataframe thead th {\n",
       "        text-align: right;\n",
       "    }\n",
       "</style>\n",
       "<table border=\"1\" class=\"dataframe\">\n",
       "  <thead>\n",
       "    <tr style=\"text-align: right;\">\n",
       "      <th></th>\n",
       "      <th>title</th>\n",
       "      <th>city</th>\n",
       "      <th>dateTime</th>\n",
       "      <th>fiscalPower</th>\n",
       "      <th>fuelType</th>\n",
       "      <th>trasmissionType</th>\n",
       "      <th>shape</th>\n",
       "      <th>model</th>\n",
       "      <th>brand</th>\n",
       "      <th>county</th>\n",
       "      <th>numberDoors</th>\n",
       "      <th>originCountry</th>\n",
       "      <th>kms</th>\n",
       "      <th>modelYear</th>\n",
       "      <th>firstHand</th>\n",
       "      <th>options</th>\n",
       "      <th>price</th>\n",
       "    </tr>\n",
       "  </thead>\n",
       "  <tbody>\n",
       "    <tr>\n",
       "      <th>0</th>\n",
       "      <td>Audi A3 sportback</td>\n",
       "      <td>Casablanca</td>\n",
       "      <td>8/20/2023, 10:04:27 PM</td>\n",
       "      <td>8 CV</td>\n",
       "      <td>Diesel</td>\n",
       "      <td>Automatique</td>\n",
       "      <td>Excellent</td>\n",
       "      <td>a3_sportback</td>\n",
       "      <td>Audi</td>\n",
       "      <td>Bourgogne</td>\n",
       "      <td>5</td>\n",
       "      <td>WW au Maroc</td>\n",
       "      <td>40 000 - 44 999</td>\n",
       "      <td>2020</td>\n",
       "      <td>Oui</td>\n",
       "      <td>CD/MP3/Bluetooth,Régulateur de vitesse,Radar d...</td>\n",
       "      <td>NaN</td>\n",
       "    </tr>\n",
       "    <tr>\n",
       "      <th>1</th>\n",
       "      <td>chevrolet cruze a vendre</td>\n",
       "      <td>Casablanca</td>\n",
       "      <td>8/20/2023, 9:47:50 PM</td>\n",
       "      <td>9 CV</td>\n",
       "      <td>Essence</td>\n",
       "      <td>Manuelle</td>\n",
       "      <td>Très bon</td>\n",
       "      <td>Cruze</td>\n",
       "      <td>Chevrolet</td>\n",
       "      <td>Aïn Chock</td>\n",
       "      <td>5</td>\n",
       "      <td>WW au Maroc</td>\n",
       "      <td>140 000 - 149 999</td>\n",
       "      <td>2013</td>\n",
       "      <td>Non</td>\n",
       "      <td>Radar de recul,Ordinateur de bord,ESP,Système ...</td>\n",
       "      <td>68000DH</td>\n",
       "    </tr>\n",
       "    <tr>\n",
       "      <th>2</th>\n",
       "      <td>Bmw serie 320d pack m</td>\n",
       "      <td>Casablanca</td>\n",
       "      <td>8/20/2023, 9:48:05 PM</td>\n",
       "      <td>8 CV</td>\n",
       "      <td>Diesel</td>\n",
       "      <td>Automatique</td>\n",
       "      <td>Excellent</td>\n",
       "      <td>Serie 3</td>\n",
       "      <td>BMW</td>\n",
       "      <td>Oasis</td>\n",
       "      <td>5</td>\n",
       "      <td>WW au Maroc</td>\n",
       "      <td>90 000 - 94 999</td>\n",
       "      <td>2019</td>\n",
       "      <td>Oui</td>\n",
       "      <td>ESP,Sièges cuir,CD/MP3/Bluetooth,Toit ouvrant,...</td>\n",
       "      <td>430000DH</td>\n",
       "    </tr>\n",
       "    <tr>\n",
       "      <th>3</th>\n",
       "      <td>Ford focus Diesel</td>\n",
       "      <td>Kénitra</td>\n",
       "      <td>8/20/2023, 9:48:59 PM</td>\n",
       "      <td>6 CV</td>\n",
       "      <td>Diesel</td>\n",
       "      <td>Manuelle</td>\n",
       "      <td>Bon</td>\n",
       "      <td>Focus</td>\n",
       "      <td>Ford</td>\n",
       "      <td>Al Maghrib Al Arabi</td>\n",
       "      <td>5</td>\n",
       "      <td>WW au Maroc</td>\n",
       "      <td>150 000 - 159 999</td>\n",
       "      <td>2015</td>\n",
       "      <td>NaN</td>\n",
       "      <td>Climatisation,Régulateur de vitesse,Vitres éle...</td>\n",
       "      <td>135000DH</td>\n",
       "    </tr>\n",
       "    <tr>\n",
       "      <th>4</th>\n",
       "      <td>Audi A 4 diesel</td>\n",
       "      <td>Kénitra</td>\n",
       "      <td>8/20/2023, 9:49:29 PM</td>\n",
       "      <td>8 CV</td>\n",
       "      <td>Diesel</td>\n",
       "      <td>Automatique</td>\n",
       "      <td>Très bon</td>\n",
       "      <td>A4</td>\n",
       "      <td>Audi</td>\n",
       "      <td>Al Maghrib Al Arabi</td>\n",
       "      <td>5</td>\n",
       "      <td>WW au Maroc</td>\n",
       "      <td>120 000 - 129 999</td>\n",
       "      <td>2017</td>\n",
       "      <td>Oui</td>\n",
       "      <td>NaN</td>\n",
       "      <td>225000DH</td>\n",
       "    </tr>\n",
       "  </tbody>\n",
       "</table>\n",
       "</div>"
      ],
      "text/plain": [
       "                      title        city                dateTime fiscalPower  \\\n",
       "0         Audi A3 sportback  Casablanca  8/20/2023, 10:04:27 PM        8 CV   \n",
       "1  chevrolet cruze a vendre  Casablanca   8/20/2023, 9:47:50 PM        9 CV   \n",
       "2     Bmw serie 320d pack m  Casablanca   8/20/2023, 9:48:05 PM        8 CV   \n",
       "3         Ford focus Diesel     Kénitra   8/20/2023, 9:48:59 PM        6 CV   \n",
       "4           Audi A 4 diesel     Kénitra   8/20/2023, 9:49:29 PM        8 CV   \n",
       "\n",
       "  fuelType trasmissionType      shape         model      brand  \\\n",
       "0   Diesel     Automatique  Excellent  a3_sportback       Audi   \n",
       "1  Essence        Manuelle   Très bon         Cruze  Chevrolet   \n",
       "2   Diesel     Automatique  Excellent       Serie 3        BMW   \n",
       "3   Diesel        Manuelle        Bon         Focus       Ford   \n",
       "4   Diesel     Automatique   Très bon            A4       Audi   \n",
       "\n",
       "                county numberDoors originCountry                kms modelYear  \\\n",
       "0            Bourgogne           5   WW au Maroc    40 000 - 44 999      2020   \n",
       "1            Aïn Chock           5   WW au Maroc  140 000 - 149 999      2013   \n",
       "2                Oasis           5   WW au Maroc    90 000 - 94 999      2019   \n",
       "3  Al Maghrib Al Arabi           5   WW au Maroc  150 000 - 159 999      2015   \n",
       "4  Al Maghrib Al Arabi           5   WW au Maroc  120 000 - 129 999      2017   \n",
       "\n",
       "  firstHand                                            options     price  \n",
       "0       Oui  CD/MP3/Bluetooth,Régulateur de vitesse,Radar d...       NaN  \n",
       "1       Non  Radar de recul,Ordinateur de bord,ESP,Système ...   68000DH  \n",
       "2       Oui  ESP,Sièges cuir,CD/MP3/Bluetooth,Toit ouvrant,...  430000DH  \n",
       "3       NaN  Climatisation,Régulateur de vitesse,Vitres éle...  135000DH  \n",
       "4       Oui                                                NaN  225000DH  "
      ]
     },
     "execution_count": 3,
     "metadata": {},
     "output_type": "execute_result"
    }
   ],
   "source": [
    "# let's see the first and the last 5 rows \n",
    "cars.head()"
   ]
  },
  {
   "cell_type": "code",
   "execution_count": 4,
   "id": "e3862503",
   "metadata": {},
   "outputs": [
    {
     "data": {
      "text/html": [
       "<div>\n",
       "<style scoped>\n",
       "    .dataframe tbody tr th:only-of-type {\n",
       "        vertical-align: middle;\n",
       "    }\n",
       "\n",
       "    .dataframe tbody tr th {\n",
       "        vertical-align: top;\n",
       "    }\n",
       "\n",
       "    .dataframe thead th {\n",
       "        text-align: right;\n",
       "    }\n",
       "</style>\n",
       "<table border=\"1\" class=\"dataframe\">\n",
       "  <thead>\n",
       "    <tr style=\"text-align: right;\">\n",
       "      <th></th>\n",
       "      <th>title</th>\n",
       "      <th>city</th>\n",
       "      <th>dateTime</th>\n",
       "      <th>fiscalPower</th>\n",
       "      <th>fuelType</th>\n",
       "      <th>trasmissionType</th>\n",
       "      <th>shape</th>\n",
       "      <th>model</th>\n",
       "      <th>brand</th>\n",
       "      <th>county</th>\n",
       "      <th>numberDoors</th>\n",
       "      <th>originCountry</th>\n",
       "      <th>kms</th>\n",
       "      <th>modelYear</th>\n",
       "      <th>firstHand</th>\n",
       "      <th>options</th>\n",
       "      <th>price</th>\n",
       "    </tr>\n",
       "  </thead>\n",
       "  <tbody>\n",
       "    <tr>\n",
       "      <th>5895</th>\n",
       "      <td>موديل 1993 رونو</td>\n",
       "      <td>Bejaad</td>\n",
       "      <td>1/24/2023, 8:25:47 PM</td>\n",
       "      <td>4 CV</td>\n",
       "      <td>Essence</td>\n",
       "      <td>Automatique</td>\n",
       "      <td>NaN</td>\n",
       "      <td>EXPRESS</td>\n",
       "      <td>Renault</td>\n",
       "      <td>NaN</td>\n",
       "      <td>NaN</td>\n",
       "      <td>NaN</td>\n",
       "      <td>0 - 4 999</td>\n",
       "      <td>1993</td>\n",
       "      <td>NaN</td>\n",
       "      <td>NaN</td>\n",
       "      <td>NaN</td>\n",
       "    </tr>\n",
       "    <tr>\n",
       "      <th>5896</th>\n",
       "      <td>Kia picanto Essence 2009</td>\n",
       "      <td>Béni Mellal</td>\n",
       "      <td>1/24/2023, 8:27:32 PM</td>\n",
       "      <td>5 CV</td>\n",
       "      <td>Essence</td>\n",
       "      <td>Manuelle</td>\n",
       "      <td>Très bon</td>\n",
       "      <td>Picanto</td>\n",
       "      <td>Kia</td>\n",
       "      <td>Toute la ville</td>\n",
       "      <td>5</td>\n",
       "      <td>WW au Maroc</td>\n",
       "      <td>0 - 4 999</td>\n",
       "      <td>2009</td>\n",
       "      <td>Non</td>\n",
       "      <td>CD/MP3/Bluetooth,Sièges cuir,Verrouillage cent...</td>\n",
       "      <td>510000DH</td>\n",
       "    </tr>\n",
       "    <tr>\n",
       "      <th>5897</th>\n",
       "      <td>Citroën C15</td>\n",
       "      <td>Meknès</td>\n",
       "      <td>1/24/2023, 8:29:50 PM</td>\n",
       "      <td>7 CV</td>\n",
       "      <td>Diesel</td>\n",
       "      <td>Manuelle</td>\n",
       "      <td>Très bon</td>\n",
       "      <td>C15</td>\n",
       "      <td>Citroen</td>\n",
       "      <td>NaN</td>\n",
       "      <td>5</td>\n",
       "      <td>WW au Maroc</td>\n",
       "      <td>5 000 - 9 999</td>\n",
       "      <td>1998</td>\n",
       "      <td>Non</td>\n",
       "      <td>Vitres électriques,ABS</td>\n",
       "      <td>35000DH</td>\n",
       "    </tr>\n",
       "    <tr>\n",
       "      <th>5898</th>\n",
       "      <td>Peugeot 206 Essence 2001</td>\n",
       "      <td>Temara</td>\n",
       "      <td>1/24/2023, 8:30:11 PM</td>\n",
       "      <td>6 CV</td>\n",
       "      <td>Essence</td>\n",
       "      <td>Manuelle</td>\n",
       "      <td>Bon</td>\n",
       "      <td>206</td>\n",
       "      <td>Peugeot</td>\n",
       "      <td>Massira 1</td>\n",
       "      <td>3</td>\n",
       "      <td>Dédouanée</td>\n",
       "      <td>200 000 - 249 999</td>\n",
       "      <td>2001</td>\n",
       "      <td>Non</td>\n",
       "      <td>Climatisation,Jantes aluminium,CD/MP3/Bluetoot...</td>\n",
       "      <td>38000DH</td>\n",
       "    </tr>\n",
       "    <tr>\n",
       "      <th>5899</th>\n",
       "      <td>volkswagen</td>\n",
       "      <td>Tétouan</td>\n",
       "      <td>1/24/2023, 8:31:29 PM</td>\n",
       "      <td>8 CV</td>\n",
       "      <td>Diesel</td>\n",
       "      <td>Manuelle</td>\n",
       "      <td>Très bon</td>\n",
       "      <td>GOLF 4</td>\n",
       "      <td>Volkswagen</td>\n",
       "      <td>NaN</td>\n",
       "      <td>5</td>\n",
       "      <td>WW au Maroc</td>\n",
       "      <td>300 000 - 349 999</td>\n",
       "      <td>2001</td>\n",
       "      <td>Non</td>\n",
       "      <td>Régulateur de vitesse,Caméra de recul,Limiteur...</td>\n",
       "      <td>57000DH</td>\n",
       "    </tr>\n",
       "  </tbody>\n",
       "</table>\n",
       "</div>"
      ],
      "text/plain": [
       "                         title         city               dateTime  \\\n",
       "5895          موديل 1993 رونو        Bejaad  1/24/2023, 8:25:47 PM   \n",
       "5896  Kia picanto Essence 2009  Béni Mellal  1/24/2023, 8:27:32 PM   \n",
       "5897              Citroën C15        Meknès  1/24/2023, 8:29:50 PM   \n",
       "5898  Peugeot 206 Essence 2001       Temara  1/24/2023, 8:30:11 PM   \n",
       "5899                volkswagen      Tétouan  1/24/2023, 8:31:29 PM   \n",
       "\n",
       "     fiscalPower fuelType trasmissionType     shape    model       brand  \\\n",
       "5895        4 CV  Essence     Automatique       NaN  EXPRESS     Renault   \n",
       "5896        5 CV  Essence        Manuelle  Très bon  Picanto         Kia   \n",
       "5897        7 CV   Diesel        Manuelle  Très bon      C15     Citroen   \n",
       "5898        6 CV  Essence        Manuelle       Bon      206     Peugeot   \n",
       "5899        8 CV   Diesel        Manuelle  Très bon   GOLF 4  Volkswagen   \n",
       "\n",
       "              county numberDoors originCountry                kms modelYear  \\\n",
       "5895             NaN         NaN           NaN          0 - 4 999      1993   \n",
       "5896  Toute la ville           5   WW au Maroc          0 - 4 999      2009   \n",
       "5897             NaN           5   WW au Maroc      5 000 - 9 999      1998   \n",
       "5898       Massira 1           3     Dédouanée  200 000 - 249 999      2001   \n",
       "5899             NaN           5   WW au Maroc  300 000 - 349 999      2001   \n",
       "\n",
       "     firstHand                                            options     price  \n",
       "5895       NaN                                                NaN       NaN  \n",
       "5896       Non  CD/MP3/Bluetooth,Sièges cuir,Verrouillage cent...  510000DH  \n",
       "5897       Non                             Vitres électriques,ABS   35000DH  \n",
       "5898       Non  Climatisation,Jantes aluminium,CD/MP3/Bluetoot...   38000DH  \n",
       "5899       Non  Régulateur de vitesse,Caméra de recul,Limiteur...   57000DH  "
      ]
     },
     "execution_count": 4,
     "metadata": {},
     "output_type": "execute_result"
    }
   ],
   "source": [
    "cars.tail()"
   ]
  },
  {
   "cell_type": "code",
   "execution_count": 5,
   "id": "432eb81f",
   "metadata": {},
   "outputs": [
    {
     "data": {
      "text/plain": [
       "(5900, 17)"
      ]
     },
     "execution_count": 5,
     "metadata": {},
     "output_type": "execute_result"
    }
   ],
   "source": [
    "cars.shape"
   ]
  },
  {
   "cell_type": "markdown",
   "id": "f6a1ad72",
   "metadata": {},
   "source": [
    "#### the dataset contain 5900 rows and 17 columns"
   ]
  },
  {
   "cell_type": "code",
   "execution_count": 6,
   "id": "7aafdec5",
   "metadata": {
    "scrolled": true
   },
   "outputs": [
    {
     "data": {
      "text/html": [
       "<div>\n",
       "<style scoped>\n",
       "    .dataframe tbody tr th:only-of-type {\n",
       "        vertical-align: middle;\n",
       "    }\n",
       "\n",
       "    .dataframe tbody tr th {\n",
       "        vertical-align: top;\n",
       "    }\n",
       "\n",
       "    .dataframe thead th {\n",
       "        text-align: right;\n",
       "    }\n",
       "</style>\n",
       "<table border=\"1\" class=\"dataframe\">\n",
       "  <thead>\n",
       "    <tr style=\"text-align: right;\">\n",
       "      <th></th>\n",
       "      <th>title</th>\n",
       "      <th>city</th>\n",
       "      <th>dateTime</th>\n",
       "      <th>fiscalPower</th>\n",
       "      <th>fuelType</th>\n",
       "      <th>trasmissionType</th>\n",
       "      <th>shape</th>\n",
       "      <th>model</th>\n",
       "      <th>brand</th>\n",
       "      <th>county</th>\n",
       "      <th>numberDoors</th>\n",
       "      <th>originCountry</th>\n",
       "      <th>kms</th>\n",
       "      <th>modelYear</th>\n",
       "      <th>firstHand</th>\n",
       "      <th>options</th>\n",
       "      <th>price</th>\n",
       "    </tr>\n",
       "  </thead>\n",
       "  <tbody>\n",
       "    <tr>\n",
       "      <th>count</th>\n",
       "      <td>5900</td>\n",
       "      <td>5898</td>\n",
       "      <td>5900</td>\n",
       "      <td>5457</td>\n",
       "      <td>5871</td>\n",
       "      <td>5378</td>\n",
       "      <td>5118</td>\n",
       "      <td>5888</td>\n",
       "      <td>5888</td>\n",
       "      <td>2301</td>\n",
       "      <td>4961</td>\n",
       "      <td>4625</td>\n",
       "      <td>5889</td>\n",
       "      <td>5898</td>\n",
       "      <td>4445</td>\n",
       "      <td>3482</td>\n",
       "      <td>4561</td>\n",
       "    </tr>\n",
       "    <tr>\n",
       "      <th>unique</th>\n",
       "      <td>4054</td>\n",
       "      <td>185</td>\n",
       "      <td>5745</td>\n",
       "      <td>32</td>\n",
       "      <td>3</td>\n",
       "      <td>3</td>\n",
       "      <td>8</td>\n",
       "      <td>542</td>\n",
       "      <td>60</td>\n",
       "      <td>323</td>\n",
       "      <td>3</td>\n",
       "      <td>5</td>\n",
       "      <td>38</td>\n",
       "      <td>45</td>\n",
       "      <td>3</td>\n",
       "      <td>2980</td>\n",
       "      <td>391</td>\n",
       "    </tr>\n",
       "    <tr>\n",
       "      <th>top</th>\n",
       "      <td>Renault</td>\n",
       "      <td>Casablanca</td>\n",
       "      <td>dateTime</td>\n",
       "      <td>6 CV</td>\n",
       "      <td>Diesel</td>\n",
       "      <td>Manuelle</td>\n",
       "      <td>Très bon</td>\n",
       "      <td>Logan</td>\n",
       "      <td>Renault</td>\n",
       "      <td>Toute la ville</td>\n",
       "      <td>5</td>\n",
       "      <td>WW au Maroc</td>\n",
       "      <td>200 000 - 249 999</td>\n",
       "      <td>2017</td>\n",
       "      <td>Non</td>\n",
       "      <td>Jantes aluminium</td>\n",
       "      <td>65000DH</td>\n",
       "    </tr>\n",
       "    <tr>\n",
       "      <th>freq</th>\n",
       "      <td>93</td>\n",
       "      <td>1456</td>\n",
       "      <td>12</td>\n",
       "      <td>1906</td>\n",
       "      <td>4666</td>\n",
       "      <td>4208</td>\n",
       "      <td>2302</td>\n",
       "      <td>224</td>\n",
       "      <td>856</td>\n",
       "      <td>383</td>\n",
       "      <td>4587</td>\n",
       "      <td>3203</td>\n",
       "      <td>580</td>\n",
       "      <td>330</td>\n",
       "      <td>2992</td>\n",
       "      <td>56</td>\n",
       "      <td>94</td>\n",
       "    </tr>\n",
       "  </tbody>\n",
       "</table>\n",
       "</div>"
      ],
      "text/plain": [
       "          title        city  dateTime fiscalPower fuelType trasmissionType  \\\n",
       "count      5900        5898      5900        5457     5871            5378   \n",
       "unique     4054         185      5745          32        3               3   \n",
       "top     Renault  Casablanca  dateTime        6 CV   Diesel        Manuelle   \n",
       "freq         93        1456        12        1906     4666            4208   \n",
       "\n",
       "           shape  model    brand          county numberDoors originCountry  \\\n",
       "count       5118   5888     5888            2301        4961          4625   \n",
       "unique         8    542       60             323           3             5   \n",
       "top     Très bon  Logan  Renault  Toute la ville           5   WW au Maroc   \n",
       "freq        2302    224      856             383        4587          3203   \n",
       "\n",
       "                      kms modelYear firstHand           options    price  \n",
       "count                5889      5898      4445              3482     4561  \n",
       "unique                 38        45         3              2980      391  \n",
       "top     200 000 - 249 999      2017       Non  Jantes aluminium  65000DH  \n",
       "freq                  580       330      2992                56       94  "
      ]
     },
     "execution_count": 6,
     "metadata": {},
     "output_type": "execute_result"
    }
   ],
   "source": [
    "cars.describe()"
   ]
  },
  {
   "cell_type": "code",
   "execution_count": 7,
   "id": "70e63c03",
   "metadata": {
    "scrolled": false
   },
   "outputs": [
    {
     "name": "stdout",
     "output_type": "stream",
     "text": [
      "<class 'pandas.core.frame.DataFrame'>\n",
      "RangeIndex: 5900 entries, 0 to 5899\n",
      "Data columns (total 17 columns):\n",
      " #   Column           Non-Null Count  Dtype \n",
      "---  ------           --------------  ----- \n",
      " 0   title            5900 non-null   object\n",
      " 1   city             5898 non-null   object\n",
      " 2   dateTime         5900 non-null   object\n",
      " 3   fiscalPower      5457 non-null   object\n",
      " 4   fuelType         5871 non-null   object\n",
      " 5   trasmissionType  5378 non-null   object\n",
      " 6   shape            5118 non-null   object\n",
      " 7   model            5888 non-null   object\n",
      " 8   brand            5888 non-null   object\n",
      " 9   county           2301 non-null   object\n",
      " 10  numberDoors      4961 non-null   object\n",
      " 11  originCountry    4625 non-null   object\n",
      " 12  kms              5889 non-null   object\n",
      " 13  modelYear        5898 non-null   object\n",
      " 14  firstHand        4445 non-null   object\n",
      " 15  options          3482 non-null   object\n",
      " 16  price            4561 non-null   object\n",
      "dtypes: object(17)\n",
      "memory usage: 783.7+ KB\n"
     ]
    }
   ],
   "source": [
    "cars.info()"
   ]
  },
  {
   "cell_type": "markdown",
   "id": "9f4bf427",
   "metadata": {},
   "source": [
    "#### we have some null value and also we need to change some datatype "
   ]
  },
  {
   "cell_type": "markdown",
   "id": "b88f9408",
   "metadata": {},
   "source": [
    "### Data Cleaning"
   ]
  },
  {
   "cell_type": "code",
   "execution_count": 8,
   "id": "8c9973f2",
   "metadata": {
    "scrolled": true
   },
   "outputs": [
    {
     "data": {
      "text/plain": [
       "11"
      ]
     },
     "execution_count": 8,
     "metadata": {},
     "output_type": "execute_result"
    }
   ],
   "source": [
    "# let's look for duplicates\n",
    "\n",
    "cars.duplicated().sum()"
   ]
  },
  {
   "cell_type": "code",
   "execution_count": 9,
   "id": "727597a9",
   "metadata": {},
   "outputs": [],
   "source": [
    "# removing the duplicates\n",
    "\n",
    "cars.drop_duplicates(inplace=True)"
   ]
  },
  {
   "cell_type": "code",
   "execution_count": 10,
   "id": "6bee32dd",
   "metadata": {},
   "outputs": [],
   "source": [
    "# removing the unnecessary columns\n",
    "\n",
    "columns_to_drop =[\"title\",\"county\",\"options\"]\n",
    "\n",
    "cars.drop(columns = columns_to_drop, inplace=True)"
   ]
  },
  {
   "cell_type": "code",
   "execution_count": 11,
   "id": "fe7d7060",
   "metadata": {},
   "outputs": [
    {
     "data": {
      "text/plain": [
       "(5889, 14)"
      ]
     },
     "execution_count": 11,
     "metadata": {},
     "output_type": "execute_result"
    }
   ],
   "source": [
    "cars.shape"
   ]
  },
  {
   "cell_type": "code",
   "execution_count": 12,
   "id": "c4bffbef",
   "metadata": {},
   "outputs": [],
   "source": [
    "# changing and modifying the column name\n",
    "\n",
    "column_name_mapping = { \"city\":\"City\", \n",
    "    \"dateTime\": \"Date_Time\",\n",
    "    \"fiscalPower\": \"Fiscal_Power\",\n",
    "    \"fuelType\": \"Fuel_Type\",\n",
    "    \"trasmissionType\":\"Transmission_Type\", \n",
    "    \"shape\":\"Shape\", \n",
    "    \"model\":\"Model\",\n",
    "    \"brand\":\"Brand\",\n",
    "    \"numberDoors\": \"Num_Doors\",\n",
    "    \"originCountry\": \"Origin_Country\",\n",
    "    \"kms\": \"Distance_Range\",\n",
    "    \"modelYear\": \"Model_Year\",\n",
    "    \"firstHand\": \"First_Hand\", \n",
    "    \"price\":\"Price\"}\n",
    "\n",
    "cars.rename(columns=column_name_mapping, inplace=True)"
   ]
  },
  {
   "cell_type": "code",
   "execution_count": 13,
   "id": "2ce2b1d0",
   "metadata": {
    "scrolled": true
   },
   "outputs": [],
   "source": [
    "# split the 'Date_Time' column \n",
    "\n",
    "cars[['Date', 'Time']] = cars['Date_Time'].str.split(',', 1, expand=True)\n",
    "\n",
    "# let's drop the original 'Date_Time' and 'Time' columns\n",
    "\n",
    "cars.drop(columns = ['Date_Time','Time'], inplace=True)\n"
   ]
  },
  {
   "cell_type": "code",
   "execution_count": 14,
   "id": "8fb61e4d",
   "metadata": {},
   "outputs": [
    {
     "name": "stdout",
     "output_type": "stream",
     "text": [
      "<class 'pandas.core.frame.DataFrame'>\n",
      "Int64Index: 5889 entries, 0 to 5899\n",
      "Data columns (total 14 columns):\n",
      " #   Column             Non-Null Count  Dtype \n",
      "---  ------             --------------  ----- \n",
      " 0   City               5887 non-null   object\n",
      " 1   Fiscal_Power       5446 non-null   object\n",
      " 2   Fuel_Type          5860 non-null   object\n",
      " 3   Transmission_Type  5367 non-null   object\n",
      " 4   Shape              5107 non-null   object\n",
      " 5   Model              5877 non-null   object\n",
      " 6   Brand              5877 non-null   object\n",
      " 7   Num_Doors          4950 non-null   object\n",
      " 8   Origin_Country     4614 non-null   object\n",
      " 9   Distance_Range     5878 non-null   object\n",
      " 10  Model_Year         5887 non-null   object\n",
      " 11  First_Hand         4434 non-null   object\n",
      " 12  Price              4550 non-null   object\n",
      " 13  Date               5889 non-null   object\n",
      "dtypes: object(14)\n",
      "memory usage: 690.1+ KB\n"
     ]
    }
   ],
   "source": [
    "cars.info()"
   ]
  },
  {
   "cell_type": "code",
   "execution_count": 15,
   "id": "09a9b9d5",
   "metadata": {
    "scrolled": true
   },
   "outputs": [
    {
     "data": {
      "text/plain": [
       "City                    2\n",
       "Fiscal_Power          443\n",
       "Fuel_Type              29\n",
       "Transmission_Type     522\n",
       "Shape                 782\n",
       "Model                  12\n",
       "Brand                  12\n",
       "Num_Doors             939\n",
       "Origin_Country       1275\n",
       "Distance_Range         11\n",
       "Model_Year              2\n",
       "First_Hand           1455\n",
       "Price                1339\n",
       "Date                    0\n",
       "dtype: int64"
      ]
     },
     "execution_count": 15,
     "metadata": {},
     "output_type": "execute_result"
    }
   ],
   "source": [
    "# let's look for null value\n",
    "\n",
    "cars.isna().sum()"
   ]
  },
  {
   "cell_type": "code",
   "execution_count": 16,
   "id": "7240ba68",
   "metadata": {},
   "outputs": [],
   "source": [
    "# converting numbers of doors and model year columns to appropriate data types\n",
    "\n",
    "cars['Num_Doors'] = pd.to_numeric(cars['Num_Doors'], errors='coerce', downcast='integer')\n",
    "\n",
    "cars['Model_Year'] = pd.to_numeric(cars['Model_Year'], errors='coerce', downcast='integer')"
   ]
  },
  {
   "cell_type": "code",
   "execution_count": 17,
   "id": "4629f658",
   "metadata": {},
   "outputs": [],
   "source": [
    "# Extracting numerical value and convert it to float for the price column\n",
    "\n",
    "cars['Price'] = cars['Price'].str.extract('(\\d+\\.\\d+|\\d+)').astype(float)"
   ]
  },
  {
   "cell_type": "code",
   "execution_count": 18,
   "id": "add8473b",
   "metadata": {
    "scrolled": true
   },
   "outputs": [],
   "source": [
    "# filling the missing value in price with mean\n",
    "\n",
    "mean_price = cars['Price'].mean()\n",
    "\n",
    "cars['Price'].fillna(mean_price, inplace=True)"
   ]
  },
  {
   "cell_type": "code",
   "execution_count": 19,
   "id": "86b530f8",
   "metadata": {},
   "outputs": [],
   "source": [
    "# Rounding the price value\n",
    "cars['Price'] = cars['Price'].round(2)"
   ]
  },
  {
   "cell_type": "code",
   "execution_count": 20,
   "id": "68520cb5",
   "metadata": {},
   "outputs": [],
   "source": [
    "# converting the year column to integer \n",
    "\n",
    "cars['Model_Year'].fillna(-1, inplace=True)\n",
    "\n",
    "cars['Model_Year'] = cars['Model_Year'].astype(int)\n"
   ]
  },
  {
   "cell_type": "code",
   "execution_count": 21,
   "id": "2095d0b9",
   "metadata": {},
   "outputs": [
    {
     "data": {
      "text/html": [
       "<div>\n",
       "<style scoped>\n",
       "    .dataframe tbody tr th:only-of-type {\n",
       "        vertical-align: middle;\n",
       "    }\n",
       "\n",
       "    .dataframe tbody tr th {\n",
       "        vertical-align: top;\n",
       "    }\n",
       "\n",
       "    .dataframe thead th {\n",
       "        text-align: right;\n",
       "    }\n",
       "</style>\n",
       "<table border=\"1\" class=\"dataframe\">\n",
       "  <thead>\n",
       "    <tr style=\"text-align: right;\">\n",
       "      <th></th>\n",
       "      <th>City</th>\n",
       "      <th>Fiscal_Power</th>\n",
       "      <th>Fuel_Type</th>\n",
       "      <th>Transmission_Type</th>\n",
       "      <th>Shape</th>\n",
       "      <th>Model</th>\n",
       "      <th>Brand</th>\n",
       "      <th>Num_Doors</th>\n",
       "      <th>Origin_Country</th>\n",
       "      <th>Distance_Range</th>\n",
       "      <th>Model_Year</th>\n",
       "      <th>First_Hand</th>\n",
       "      <th>Price</th>\n",
       "      <th>Date</th>\n",
       "    </tr>\n",
       "  </thead>\n",
       "  <tbody>\n",
       "    <tr>\n",
       "      <th>0</th>\n",
       "      <td>Casablanca</td>\n",
       "      <td>8 CV</td>\n",
       "      <td>Diesel</td>\n",
       "      <td>Automatique</td>\n",
       "      <td>Excellent</td>\n",
       "      <td>a3_sportback</td>\n",
       "      <td>Audi</td>\n",
       "      <td>5.0</td>\n",
       "      <td>WW au Maroc</td>\n",
       "      <td>40 000 - 44 999</td>\n",
       "      <td>2020</td>\n",
       "      <td>Oui</td>\n",
       "      <td>106508.8</td>\n",
       "      <td>8/20/2023</td>\n",
       "    </tr>\n",
       "    <tr>\n",
       "      <th>1</th>\n",
       "      <td>Casablanca</td>\n",
       "      <td>9 CV</td>\n",
       "      <td>Essence</td>\n",
       "      <td>Manuelle</td>\n",
       "      <td>Très bon</td>\n",
       "      <td>Cruze</td>\n",
       "      <td>Chevrolet</td>\n",
       "      <td>5.0</td>\n",
       "      <td>WW au Maroc</td>\n",
       "      <td>140 000 - 149 999</td>\n",
       "      <td>2013</td>\n",
       "      <td>Non</td>\n",
       "      <td>68000.0</td>\n",
       "      <td>8/20/2023</td>\n",
       "    </tr>\n",
       "    <tr>\n",
       "      <th>2</th>\n",
       "      <td>Casablanca</td>\n",
       "      <td>8 CV</td>\n",
       "      <td>Diesel</td>\n",
       "      <td>Automatique</td>\n",
       "      <td>Excellent</td>\n",
       "      <td>Serie 3</td>\n",
       "      <td>BMW</td>\n",
       "      <td>5.0</td>\n",
       "      <td>WW au Maroc</td>\n",
       "      <td>90 000 - 94 999</td>\n",
       "      <td>2019</td>\n",
       "      <td>Oui</td>\n",
       "      <td>430000.0</td>\n",
       "      <td>8/20/2023</td>\n",
       "    </tr>\n",
       "    <tr>\n",
       "      <th>3</th>\n",
       "      <td>Kénitra</td>\n",
       "      <td>6 CV</td>\n",
       "      <td>Diesel</td>\n",
       "      <td>Manuelle</td>\n",
       "      <td>Bon</td>\n",
       "      <td>Focus</td>\n",
       "      <td>Ford</td>\n",
       "      <td>5.0</td>\n",
       "      <td>WW au Maroc</td>\n",
       "      <td>150 000 - 159 999</td>\n",
       "      <td>2015</td>\n",
       "      <td>NaN</td>\n",
       "      <td>135000.0</td>\n",
       "      <td>8/20/2023</td>\n",
       "    </tr>\n",
       "    <tr>\n",
       "      <th>4</th>\n",
       "      <td>Kénitra</td>\n",
       "      <td>8 CV</td>\n",
       "      <td>Diesel</td>\n",
       "      <td>Automatique</td>\n",
       "      <td>Très bon</td>\n",
       "      <td>A4</td>\n",
       "      <td>Audi</td>\n",
       "      <td>5.0</td>\n",
       "      <td>WW au Maroc</td>\n",
       "      <td>120 000 - 129 999</td>\n",
       "      <td>2017</td>\n",
       "      <td>Oui</td>\n",
       "      <td>225000.0</td>\n",
       "      <td>8/20/2023</td>\n",
       "    </tr>\n",
       "  </tbody>\n",
       "</table>\n",
       "</div>"
      ],
      "text/plain": [
       "         City Fiscal_Power Fuel_Type Transmission_Type      Shape  \\\n",
       "0  Casablanca         8 CV    Diesel       Automatique  Excellent   \n",
       "1  Casablanca         9 CV   Essence          Manuelle   Très bon   \n",
       "2  Casablanca         8 CV    Diesel       Automatique  Excellent   \n",
       "3     Kénitra         6 CV    Diesel          Manuelle        Bon   \n",
       "4     Kénitra         8 CV    Diesel       Automatique   Très bon   \n",
       "\n",
       "          Model      Brand  Num_Doors Origin_Country     Distance_Range  \\\n",
       "0  a3_sportback       Audi        5.0    WW au Maroc    40 000 - 44 999   \n",
       "1         Cruze  Chevrolet        5.0    WW au Maroc  140 000 - 149 999   \n",
       "2       Serie 3        BMW        5.0    WW au Maroc    90 000 - 94 999   \n",
       "3         Focus       Ford        5.0    WW au Maroc  150 000 - 159 999   \n",
       "4            A4       Audi        5.0    WW au Maroc  120 000 - 129 999   \n",
       "\n",
       "   Model_Year First_Hand     Price       Date  \n",
       "0        2020        Oui  106508.8  8/20/2023  \n",
       "1        2013        Non   68000.0  8/20/2023  \n",
       "2        2019        Oui  430000.0  8/20/2023  \n",
       "3        2015        NaN  135000.0  8/20/2023  \n",
       "4        2017        Oui  225000.0  8/20/2023  "
      ]
     },
     "execution_count": 21,
     "metadata": {},
     "output_type": "execute_result"
    }
   ],
   "source": [
    "cars.head()"
   ]
  },
  {
   "cell_type": "code",
   "execution_count": 22,
   "id": "fc3e3be3",
   "metadata": {
    "scrolled": true
   },
   "outputs": [
    {
     "name": "stdout",
     "output_type": "stream",
     "text": [
      "<class 'pandas.core.frame.DataFrame'>\n",
      "Int64Index: 5889 entries, 0 to 5899\n",
      "Data columns (total 14 columns):\n",
      " #   Column             Non-Null Count  Dtype  \n",
      "---  ------             --------------  -----  \n",
      " 0   City               5887 non-null   object \n",
      " 1   Fiscal_Power       5446 non-null   object \n",
      " 2   Fuel_Type          5860 non-null   object \n",
      " 3   Transmission_Type  5367 non-null   object \n",
      " 4   Shape              5107 non-null   object \n",
      " 5   Model              5877 non-null   object \n",
      " 6   Brand              5877 non-null   object \n",
      " 7   Num_Doors          4949 non-null   float64\n",
      " 8   Origin_Country     4614 non-null   object \n",
      " 9   Distance_Range     5878 non-null   object \n",
      " 10  Model_Year         5889 non-null   int32  \n",
      " 11  First_Hand         4434 non-null   object \n",
      " 12  Price              5889 non-null   float64\n",
      " 13  Date               5889 non-null   object \n",
      "dtypes: float64(2), int32(1), object(11)\n",
      "memory usage: 667.1+ KB\n"
     ]
    }
   ],
   "source": [
    "cars.info()"
   ]
  },
  {
   "cell_type": "markdown",
   "id": "a6960e10",
   "metadata": {},
   "source": [
    "count_none_in_Distance_Range = cars['Distance_Range'].isna().sum()\n",
    "Distance_Range = cars.dropna(subset=['Distance_Range'])\n",
    "cars.shape()"
   ]
  },
  {
   "cell_type": "code",
   "execution_count": 23,
   "id": "e56a1d44",
   "metadata": {},
   "outputs": [],
   "source": [
    "cars['Distance_Range'] = cars['Distance_Range'].str.replace(r'\\s', '', regex=True)"
   ]
  },
  {
   "cell_type": "code",
   "execution_count": 24,
   "id": "c0a14a64",
   "metadata": {
    "scrolled": true
   },
   "outputs": [],
   "source": [
    "# spliting the distance range column and convert it to float data type\n",
    "cars[['Min', 'Distance']] = cars['Distance_Range'].str.split('-',1,expand=True)\n",
    "\n",
    "# changing the data type \n",
    "cars['Distance'] = cars['Distance'].astype(float)\n",
    "\n",
    "# deleting the minimum distance column\n",
    "cars.drop('Min', axis=1, inplace=True)"
   ]
  },
  {
   "cell_type": "code",
   "execution_count": 25,
   "id": "7d5180c6",
   "metadata": {},
   "outputs": [],
   "source": [
    "cars.drop(['Distance_Range'], axis=1, inplace=True)"
   ]
  },
  {
   "cell_type": "code",
   "execution_count": 26,
   "id": "bfcc558d",
   "metadata": {
    "scrolled": true
   },
   "outputs": [
    {
     "data": {
      "text/html": [
       "<div>\n",
       "<style scoped>\n",
       "    .dataframe tbody tr th:only-of-type {\n",
       "        vertical-align: middle;\n",
       "    }\n",
       "\n",
       "    .dataframe tbody tr th {\n",
       "        vertical-align: top;\n",
       "    }\n",
       "\n",
       "    .dataframe thead th {\n",
       "        text-align: right;\n",
       "    }\n",
       "</style>\n",
       "<table border=\"1\" class=\"dataframe\">\n",
       "  <thead>\n",
       "    <tr style=\"text-align: right;\">\n",
       "      <th></th>\n",
       "      <th>City</th>\n",
       "      <th>Fiscal_Power</th>\n",
       "      <th>Fuel_Type</th>\n",
       "      <th>Transmission_Type</th>\n",
       "      <th>Shape</th>\n",
       "      <th>Model</th>\n",
       "      <th>Brand</th>\n",
       "      <th>Num_Doors</th>\n",
       "      <th>Origin_Country</th>\n",
       "      <th>Model_Year</th>\n",
       "      <th>First_Hand</th>\n",
       "      <th>Price</th>\n",
       "      <th>Date</th>\n",
       "      <th>Distance</th>\n",
       "    </tr>\n",
       "  </thead>\n",
       "  <tbody>\n",
       "    <tr>\n",
       "      <th>0</th>\n",
       "      <td>Casablanca</td>\n",
       "      <td>8 CV</td>\n",
       "      <td>Diesel</td>\n",
       "      <td>Automatique</td>\n",
       "      <td>Excellent</td>\n",
       "      <td>a3_sportback</td>\n",
       "      <td>Audi</td>\n",
       "      <td>5.0</td>\n",
       "      <td>WW au Maroc</td>\n",
       "      <td>2020</td>\n",
       "      <td>Oui</td>\n",
       "      <td>106508.8</td>\n",
       "      <td>8/20/2023</td>\n",
       "      <td>44999.0</td>\n",
       "    </tr>\n",
       "    <tr>\n",
       "      <th>1</th>\n",
       "      <td>Casablanca</td>\n",
       "      <td>9 CV</td>\n",
       "      <td>Essence</td>\n",
       "      <td>Manuelle</td>\n",
       "      <td>Très bon</td>\n",
       "      <td>Cruze</td>\n",
       "      <td>Chevrolet</td>\n",
       "      <td>5.0</td>\n",
       "      <td>WW au Maroc</td>\n",
       "      <td>2013</td>\n",
       "      <td>Non</td>\n",
       "      <td>68000.0</td>\n",
       "      <td>8/20/2023</td>\n",
       "      <td>149999.0</td>\n",
       "    </tr>\n",
       "    <tr>\n",
       "      <th>2</th>\n",
       "      <td>Casablanca</td>\n",
       "      <td>8 CV</td>\n",
       "      <td>Diesel</td>\n",
       "      <td>Automatique</td>\n",
       "      <td>Excellent</td>\n",
       "      <td>Serie 3</td>\n",
       "      <td>BMW</td>\n",
       "      <td>5.0</td>\n",
       "      <td>WW au Maroc</td>\n",
       "      <td>2019</td>\n",
       "      <td>Oui</td>\n",
       "      <td>430000.0</td>\n",
       "      <td>8/20/2023</td>\n",
       "      <td>94999.0</td>\n",
       "    </tr>\n",
       "    <tr>\n",
       "      <th>3</th>\n",
       "      <td>Kénitra</td>\n",
       "      <td>6 CV</td>\n",
       "      <td>Diesel</td>\n",
       "      <td>Manuelle</td>\n",
       "      <td>Bon</td>\n",
       "      <td>Focus</td>\n",
       "      <td>Ford</td>\n",
       "      <td>5.0</td>\n",
       "      <td>WW au Maroc</td>\n",
       "      <td>2015</td>\n",
       "      <td>NaN</td>\n",
       "      <td>135000.0</td>\n",
       "      <td>8/20/2023</td>\n",
       "      <td>159999.0</td>\n",
       "    </tr>\n",
       "    <tr>\n",
       "      <th>4</th>\n",
       "      <td>Kénitra</td>\n",
       "      <td>8 CV</td>\n",
       "      <td>Diesel</td>\n",
       "      <td>Automatique</td>\n",
       "      <td>Très bon</td>\n",
       "      <td>A4</td>\n",
       "      <td>Audi</td>\n",
       "      <td>5.0</td>\n",
       "      <td>WW au Maroc</td>\n",
       "      <td>2017</td>\n",
       "      <td>Oui</td>\n",
       "      <td>225000.0</td>\n",
       "      <td>8/20/2023</td>\n",
       "      <td>129999.0</td>\n",
       "    </tr>\n",
       "  </tbody>\n",
       "</table>\n",
       "</div>"
      ],
      "text/plain": [
       "         City Fiscal_Power Fuel_Type Transmission_Type      Shape  \\\n",
       "0  Casablanca         8 CV    Diesel       Automatique  Excellent   \n",
       "1  Casablanca         9 CV   Essence          Manuelle   Très bon   \n",
       "2  Casablanca         8 CV    Diesel       Automatique  Excellent   \n",
       "3     Kénitra         6 CV    Diesel          Manuelle        Bon   \n",
       "4     Kénitra         8 CV    Diesel       Automatique   Très bon   \n",
       "\n",
       "          Model      Brand  Num_Doors Origin_Country  Model_Year First_Hand  \\\n",
       "0  a3_sportback       Audi        5.0    WW au Maroc        2020        Oui   \n",
       "1         Cruze  Chevrolet        5.0    WW au Maroc        2013        Non   \n",
       "2       Serie 3        BMW        5.0    WW au Maroc        2019        Oui   \n",
       "3         Focus       Ford        5.0    WW au Maroc        2015        NaN   \n",
       "4            A4       Audi        5.0    WW au Maroc        2017        Oui   \n",
       "\n",
       "      Price       Date  Distance  \n",
       "0  106508.8  8/20/2023   44999.0  \n",
       "1   68000.0  8/20/2023  149999.0  \n",
       "2  430000.0  8/20/2023   94999.0  \n",
       "3  135000.0  8/20/2023  159999.0  \n",
       "4  225000.0  8/20/2023  129999.0  "
      ]
     },
     "execution_count": 26,
     "metadata": {},
     "output_type": "execute_result"
    }
   ],
   "source": [
    "cars.head()"
   ]
  },
  {
   "cell_type": "code",
   "execution_count": 27,
   "id": "ca849216",
   "metadata": {},
   "outputs": [],
   "source": [
    "# let's fill all the missing numerical values\n",
    "\n",
    "cars['Num_Doors'].fillna(cars['Num_Doors'].median(), inplace=True)\n",
    "cars['Distance'].fillna(cars['Distance'].median(), inplace=True)\n",
    "cars['Model_Year'].fillna(cars['Model_Year'].median(), inplace=True)\n"
   ]
  },
  {
   "cell_type": "code",
   "execution_count": 28,
   "id": "b0c19467",
   "metadata": {},
   "outputs": [],
   "source": [
    "# filling the missing categorical values with the mode \n",
    "\n",
    "cars['Fuel_Type'].fillna(cars['Fuel_Type'].mode()[0], inplace=True)\n",
    "cars['Transmission_Type'].fillna(cars['Transmission_Type'].mode()[0], inplace=True)\n",
    "cars['Shape'].fillna(cars['Shape'].mode()[0], inplace=True)\n",
    "cars['Model'].fillna(cars['Model'].mode()[0], inplace=True)\n",
    "cars['Brand'].fillna(cars['Brand'].mode()[0], inplace=True)\n",
    "cars['Origin_Country'].fillna(cars['Origin_Country'].mode()[0], inplace=True)\n",
    "cars['First_Hand'].fillna(cars['First_Hand'].mode()[0], inplace=True)\n",
    "cars['Fiscal_Power'].fillna(cars['Fiscal_Power'].mode()[0], inplace=True)\n"
   ]
  },
  {
   "cell_type": "code",
   "execution_count": 29,
   "id": "8be4099b",
   "metadata": {},
   "outputs": [
    {
     "data": {
      "text/html": [
       "<div>\n",
       "<style scoped>\n",
       "    .dataframe tbody tr th:only-of-type {\n",
       "        vertical-align: middle;\n",
       "    }\n",
       "\n",
       "    .dataframe tbody tr th {\n",
       "        vertical-align: top;\n",
       "    }\n",
       "\n",
       "    .dataframe thead th {\n",
       "        text-align: right;\n",
       "    }\n",
       "</style>\n",
       "<table border=\"1\" class=\"dataframe\">\n",
       "  <thead>\n",
       "    <tr style=\"text-align: right;\">\n",
       "      <th></th>\n",
       "      <th>Num_Doors</th>\n",
       "      <th>Model_Year</th>\n",
       "      <th>Price</th>\n",
       "      <th>Distance</th>\n",
       "    </tr>\n",
       "  </thead>\n",
       "  <tbody>\n",
       "    <tr>\n",
       "      <th>Num_Doors</th>\n",
       "      <td>1.000000</td>\n",
       "      <td>0.033310</td>\n",
       "      <td>0.004590</td>\n",
       "      <td>0.048151</td>\n",
       "    </tr>\n",
       "    <tr>\n",
       "      <th>Model_Year</th>\n",
       "      <td>0.033310</td>\n",
       "      <td>1.000000</td>\n",
       "      <td>0.024038</td>\n",
       "      <td>0.002741</td>\n",
       "    </tr>\n",
       "    <tr>\n",
       "      <th>Price</th>\n",
       "      <td>0.004590</td>\n",
       "      <td>0.024038</td>\n",
       "      <td>1.000000</td>\n",
       "      <td>-0.046729</td>\n",
       "    </tr>\n",
       "    <tr>\n",
       "      <th>Distance</th>\n",
       "      <td>0.048151</td>\n",
       "      <td>0.002741</td>\n",
       "      <td>-0.046729</td>\n",
       "      <td>1.000000</td>\n",
       "    </tr>\n",
       "  </tbody>\n",
       "</table>\n",
       "</div>"
      ],
      "text/plain": [
       "            Num_Doors  Model_Year     Price  Distance\n",
       "Num_Doors    1.000000    0.033310  0.004590  0.048151\n",
       "Model_Year   0.033310    1.000000  0.024038  0.002741\n",
       "Price        0.004590    0.024038  1.000000 -0.046729\n",
       "Distance     0.048151    0.002741 -0.046729  1.000000"
      ]
     },
     "execution_count": 29,
     "metadata": {},
     "output_type": "execute_result"
    }
   ],
   "source": [
    "cars.corr()"
   ]
  },
  {
   "cell_type": "code",
   "execution_count": 30,
   "id": "6f3df4b3",
   "metadata": {},
   "outputs": [
    {
     "data": {
      "image/png": "[encoded data removed]",
      "text/plain": [
       "<Figure size 720x504 with 2 Axes>"
      ]
     },
     "metadata": {
      "needs_background": "light"
     },
     "output_type": "display_data"
    }
   ],
   "source": [
    "# Correlation matrix\n",
    "plt.figure(figsize=(10, 7))\n",
    "sns.heatmap(cars.corr(), annot=True,  cmap='coolwarm', linewidths=0.5)\n",
    "plt.title('Correlation Matrix')\n",
    "plt.show()"
   ]
  },
  {
   "cell_type": "code",
   "execution_count": 31,
   "id": "d34fa120",
   "metadata": {
    "scrolled": true
   },
   "outputs": [
    {
     "data": {
      "image/png": "[encoded data removed]",
      "text/plain": [
       "<Figure size 432x288 with 1 Axes>"
      ]
     },
     "metadata": {
      "needs_background": "light"
     },
     "output_type": "display_data"
    }
   ],
   "source": [
    "# Distribution of fuel type\n",
    "\n",
    "sns.countplot(y='Fuel_Type', data=cars)\n",
    "plt.title('Fuel_Type')\n",
    "plt.show()"
   ]
  },
  {
   "cell_type": "code",
   "execution_count": 32,
   "id": "2d15caa7",
   "metadata": {},
   "outputs": [
    {
     "data": {
      "image/png": "[encoded data removed]",
      "text/plain": [
       "<Figure size 1440x720 with 1 Axes>"
      ]
     },
     "metadata": {
      "needs_background": "light"
     },
     "output_type": "display_data"
    }
   ],
   "source": [
    "# Boxplot for 'price' vs. 'Fueltype'\n",
    "\n",
    "plt.figure(figsize=(20, 10))\n",
    "sns.boxplot(data=cars, x='Fuel_Type', y='Price')\n",
    "plt.title('Boxplot of Price by Fueltype')\n",
    "plt.xlabel('Fuel_Type')\n",
    "plt.ylabel('Price')\n",
    "plt.xticks(rotation=45)\n",
    "plt.show()"
   ]
  },
  {
   "cell_type": "code",
   "execution_count": 33,
   "id": "e4e1d559",
   "metadata": {},
   "outputs": [
    {
     "data": {
      "image/png": "[encoded data removed]",
      "text/plain": [
       "<Figure size 1080x432 with 1 Axes>"
      ]
     },
     "metadata": {
      "needs_background": "light"
     },
     "output_type": "display_data"
    }
   ],
   "source": [
    "# Distribution of cars brand\n",
    "plt.figure(figsize=(15, 6))\n",
    "sns.countplot(x='Brand', data=cars)\n",
    "plt.title('Count of Cars by Brand')\n",
    "plt.xlabel('Brand')\n",
    "plt.ylabel('Count')\n",
    "plt.xticks(rotation=90)\n",
    "plt.show()\n"
   ]
  },
  {
   "cell_type": "code",
   "execution_count": 34,
   "id": "67c138a3",
   "metadata": {},
   "outputs": [
    {
     "data": {
      "image/png": "[encoded data removed]",
      "text/plain": [
       "<Figure size 432x288 with 1 Axes>"
      ]
     },
     "metadata": {
      "needs_background": "light"
     },
     "output_type": "display_data"
    }
   ],
   "source": [
    "sns.countplot(x='Transmission_Type', data=cars)\n",
    "plt.title('Transmission type')\n",
    "plt.show()"
   ]
  },
  {
   "cell_type": "code",
   "execution_count": 35,
   "id": "7aabb645",
   "metadata": {
    "scrolled": true
   },
   "outputs": [
    {
     "data": {
      "image/png": "[encoded data removed]",
      "text/plain": [
       "<Figure size 432x288 with 1 Axes>"
      ]
     },
     "metadata": {},
     "output_type": "display_data"
    }
   ],
   "source": [
    "# Distribution of different transmission types\n",
    "\n",
    "tags=cars['Transmission_Type'].value_counts()\n",
    "tags.plot(kind='pie', autopct='%1.1f%%', label= '')\n",
    "plt.title('Distribution of the different transmission types')\n",
    "plt.show()"
   ]
  },
  {
   "cell_type": "code",
   "execution_count": 36,
   "id": "a0944f90",
   "metadata": {
    "scrolled": true
   },
   "outputs": [
    {
     "data": {
      "image/png": "[encoded data removed]",
      "text/plain": [
       "<Figure size 576x432 with 1 Axes>"
      ]
     },
     "metadata": {
      "needs_background": "light"
     },
     "output_type": "display_data"
    }
   ],
   "source": [
    "# Scatter plot showing the correlation between price, fuel type and transmission type\n",
    "plt.figure(figsize=(8,6))\n",
    "plt.title('fuel type vs price')\n",
    "sns.scatterplot(x=cars['Distance'],y=cars['Price'], hue=cars['Transmission_Type'])\n",
    "plt.xlabel('Fuel_Type')\n",
    "plt.ylabel('Price')\n",
    "plt.show()"
   ]
  },
  {
   "cell_type": "code",
   "execution_count": 37,
   "id": "b32ed640",
   "metadata": {
    "scrolled": true
   },
   "outputs": [
    {
     "data": {
      "image/png": "[encoded data removed]",
      "text/plain": [
       "<Figure size 1080x432 with 1 Axes>"
      ]
     },
     "metadata": {
      "needs_background": "light"
     },
     "output_type": "display_data"
    }
   ],
   "source": [
    "# Scatter plot showing the correlation between price, fuel type and transmission type\n",
    "plt.figure(figsize=(15,6))\n",
    "plt.title('Origine vs price')\n",
    "sns.scatterplot(x=cars['Distance'],y=cars['Price'], hue=cars['Origin_Country'])\n",
    "plt.xlabel('Distance')\n",
    "plt.ylabel('Price')\n",
    "plt.show()"
   ]
  }
 ],
 "metadata": {
  "kernelspec": {
   "display_name": "Python 3",
   "language": "python",
   "name": "python3"
  },
  "language_info": {
   "codemirror_mode": {
    "name": "ipython",
    "version": 3
   },
   "file_extension": ".py",
   "mimetype": "text/x-python",
   "name": "python",
   "nbconvert_exporter": "python",
   "pygments_lexer": "ipython3",
   "version": "3.8.8"
  }
 },
 "nbformat": 4,
 "nbformat_minor": 5
}
